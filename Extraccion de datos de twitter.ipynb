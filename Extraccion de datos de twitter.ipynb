{
 "cells": [
  {
   "cell_type": "markdown",
   "id": "f1ac5e5a",
   "metadata": {},
   "source": [
    "**Limitaciones**\n",
    "- 180 requirimeintos cada 15 minutos\n",
    "    - Tweets search 450 tweets por requirimeintos\n",
    "    - 900 usuarios por requirimeintos\n",
    "    -  Timelines 15000 tweets por requirmiento. solo puedo sacar los ultimos 3200 Tweests( incluye los retweets)"
   ]
  },
  {
   "cell_type": "markdown",
   "id": "4b8be288",
   "metadata": {},
   "source": [
    "**Streaming**\n",
    "Obtener informacion en tiempo real, que es lo que la gente esta posteando.\n",
    "antesde poder utiulizar ambos de estas api debemos de autentificarnos\n",
    "\n",
    "**Authentificacion**\n",
    "- Para poder Utilizar la Api de twitter y empezar a extraer datos  necesitamos authentificarnos\n",
    "- Esto se realiza por motivos de seguridad\n",
    "- Twitter utiliza el protocolo Oath 2.0 par autehnitificaciones.\n",
    "\n",
    "**Aplicaciones**\n",
    "- cuando queremos utilizar el API de twitter debemos de crear una aplicaion de twitter(app.twitter.com)\n",
    "\n"
   ]
  },
  {
   "cell_type": "markdown",
   "id": "7ec17ca1",
   "metadata": {},
   "source": [
    "**Dependencias de python**\n",
    "- `Tweepy` Libreria/dependecnia de python utilizada para acceder al api de Twitter\n",
    "- Contiene metodos para hacer todo lo qye nos permite hacer el API de Twitter pero de una manera mas sencilla.\n",
    "- Fcilita el proceso de autentificacion.\n",
    "\n",
    "Generalmente para hacer un requerimeitno a un AP tengo que hacer un HTTP request.\n",
    "Dependiendo del request que desee hacer tengo que enviar parametros en el BODY del rerquermiento eo en la URL\n",
    "Esto funcionara, si previamente realice mi autentificacion Oauth2.\n",
    "\n",
    "\n",
    "**Tweepy**\n",
    "-  Con Tweepy  me comunico con el API de twitter simplemente llamando a funciones."
   ]
  },
  {
   "cell_type": "markdown",
   "id": "fd6e1e29",
   "metadata": {},
   "source": [
    "**Creacion de una api en twitter**"
   ]
  },
  {
   "cell_type": "code",
   "execution_count": null,
   "id": "9f0824bd",
   "metadata": {},
   "outputs": [],
   "source": [
    "#import tweepy\n",
    "\n",
    "#visualizacion de la data\n",
    "import json\n",
    "\n",
    "#cadenas de autentificacion, estas informacion es obtenida brindada por la app quese genera en twitter\n",
    "\n",
    "consumer_key = \"\"\n",
    "consumer_secret = \"\"\n",
    "access_token = \"\"\n",
    "access_token_secret = \"\"\n",
    "#instanciamos un objeto\n",
    "auth = tweety.OAuthHandler(consumer_key, consumer_secret)\n",
    "auth.set_access_token(access_token, access_token_secret)\n",
    "#Instanciamos el objeto de la clasea API\n",
    "api = tweepy.API(auth,wait_on_rate_limit = True,wait_on_rate_limit_notify =True) #canal mediante la cual hacemos todas las llamadas\n"
   ]
  },
  {
   "cell_type": "code",
   "execution_count": null,
   "id": "1eff228c",
   "metadata": {},
   "outputs": [],
   "source": [
    "\n",
    "#procedemo a obtener la informacion\n",
    "#En este caso es obtener mi informacion\n",
    "#data = api.me()\n",
    "#para obtener los datos en formato json\n",
    "#print(json.dumps(data._json,indent =2))\n",
    "#Para obtener informacion de otro usuario\n",
    "api.get_user(\"nike\")#pasamos el nombre del usuario del cual queremos extraer informacion\n",
    "print(json.dumps(data._json,indent=2))\n",
    "\n",
    "\n",
    "#Obtener los followers de un usuario\n",
    "data = api.followers(screen_name =\"nike\")#data va obtener un arreglo de datos\n",
    "#Prcedemoa a verifiar la longitud del arreglo nos entregan una arreglo de datos por bloque lo quemas se parece cuando se busca en gogle\n",
    "\n",
    "print(len(data))\n",
    "#procedemos a iterar en el arreglo\n",
    "for user in data:\n",
    "    print(json.dumps(user._json,indent = 2))\n",
    "\n",
    "#para pdoer obtener todos los datos usamos\n",
    "    #le estoy pasando el metodo com tal\n",
    "for user in tweety.Cursor(api.followers(),screen_name = \"nike\").items(100):\n",
    "    print(json.dumps(user._json, indent = 2))\n",
    "\n",
    "\n"
   ]
  },
  {
   "cell_type": "code",
   "execution_count": null,
   "id": "64585db8",
   "metadata": {},
   "outputs": [],
   "source": [
    "for user in tweepy.Cursor(api.friends, screen_name ='nike').items(100):\n",
    "    print(json.dumps(user._json, indent = 2))\n",
    "    "
   ]
  },
  {
   "cell_type": "code",
   "execution_count": null,
   "id": "70465a09",
   "metadata": {},
   "outputs": [],
   "source": [
    "#obtener un timeline 8todos los tweet que ha realizado el usuario)\n",
    "for tweet in tweepy.Cursor(api.user_timeline, screen_name =\"nike\", tweet_mode = \"extended\").items(1):\n",
    "    print(json.dumps(tweet._json, indent = 2))\n",
    "    "
   ]
  },
  {
   "cell_type": "code",
   "execution_count": null,
   "id": "8d29dc20",
   "metadata": {},
   "outputs": [],
   "source": [
    "#para buscar tweets\n",
    "for tweet in tweety.Cursor(api.search, q = \"mundial de clubes\", tweet_mode = \"extended\").items(10):\n",
    "    print(json.dumps(tweet._json, indent = 2))\n",
    "    print(tweet._json[\"full_text\"])"
   ]
  }
 ],
 "metadata": {
  "kernelspec": {
   "display_name": "Python 3 (ipykernel)",
   "language": "python",
   "name": "python3"
  },
  "language_info": {
   "codemirror_mode": {
    "name": "ipython",
    "version": 3
   },
   "file_extension": ".py",
   "mimetype": "text/x-python",
   "name": "python",
   "nbconvert_exporter": "python",
   "pygments_lexer": "ipython3",
   "version": "3.9.7"
  }
 },
 "nbformat": 4,
 "nbformat_minor": 5
}
