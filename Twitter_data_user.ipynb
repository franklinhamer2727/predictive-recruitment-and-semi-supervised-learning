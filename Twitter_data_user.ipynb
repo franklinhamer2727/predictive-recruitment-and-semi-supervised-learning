{
 "cells": [
  {
   "cell_type": "code",
   "execution_count": 1,
   "id": "552d476a",
   "metadata": {},
   "outputs": [],
   "source": [
    "#Tratamiento de datos de twitter\n",
    "#importamos la libreria pandas\n",
    "import pandas as pd"
   ]
  },
  {
   "cell_type": "code",
   "execution_count": 2,
   "id": "2f6285f1",
   "metadata": {},
   "outputs": [],
   "source": [
    "import warnings\n",
    "warnings.filterwarnings('ignore')"
   ]
  },
  {
   "cell_type": "code",
   "execution_count": 3,
   "id": "7110d0f7",
   "metadata": {},
   "outputs": [],
   "source": [
    "names = ['id','screenName','tags','avatar','followersCount','friendsCount','lang','lastSeen','tweetId','friends']\n",
    "datos = pd.read_csv('data.csv',error_bad_lines=False, names= names)"
   ]
  },
  {
   "cell_type": "code",
   "execution_count": 4,
   "id": "d2d5035a",
   "metadata": {},
   "outputs": [],
   "source": [
    "data = datos[1:]"
   ]
  },
  {
   "cell_type": "code",
   "execution_count": 5,
   "id": "4022b1c6",
   "metadata": {},
   "outputs": [
    {
     "data": {
      "text/html": [
       "<div>\n",
       "<style scoped>\n",
       "    .dataframe tbody tr th:only-of-type {\n",
       "        vertical-align: middle;\n",
       "    }\n",
       "\n",
       "    .dataframe tbody tr th {\n",
       "        vertical-align: top;\n",
       "    }\n",
       "\n",
       "    .dataframe thead th {\n",
       "        text-align: right;\n",
       "    }\n",
       "</style>\n",
       "<table border=\"1\" class=\"dataframe\">\n",
       "  <thead>\n",
       "    <tr style=\"text-align: right;\">\n",
       "      <th></th>\n",
       "      <th>id</th>\n",
       "      <th>screenName</th>\n",
       "      <th>tags</th>\n",
       "      <th>avatar</th>\n",
       "      <th>followersCount</th>\n",
       "      <th>friendsCount</th>\n",
       "      <th>lang</th>\n",
       "      <th>lastSeen</th>\n",
       "      <th>tweetId</th>\n",
       "      <th>friends</th>\n",
       "    </tr>\n",
       "  </thead>\n",
       "  <tbody>\n",
       "    <tr>\n",
       "      <th>1</th>\n",
       "      <td>1969527638</td>\n",
       "      <td>LlngoMakeEmCum_</td>\n",
       "      <td>[ \"#nationaldogday\" ]</td>\n",
       "      <td>http://pbs.twimg.com/profile_images/5342862178...</td>\n",
       "      <td>319</td>\n",
       "      <td>112</td>\n",
       "      <td>en</td>\n",
       "      <td>1472271687519</td>\n",
       "      <td>769310701580083200</td>\n",
       "      <td>[ \"1969574754\"</td>\n",
       "    </tr>\n",
       "    <tr>\n",
       "      <th>2</th>\n",
       "      <td>51878493</td>\n",
       "      <td>_notmichelle</td>\n",
       "      <td>[ \"#nationaldogday\" ]</td>\n",
       "      <td>http://pbs.twimg.com/profile_images/7619776021...</td>\n",
       "      <td>275</td>\n",
       "      <td>115</td>\n",
       "      <td>en</td>\n",
       "      <td>1472270622663</td>\n",
       "      <td>769309490038439936</td>\n",
       "      <td>[ \"60789485\"</td>\n",
       "    </tr>\n",
       "    <tr>\n",
       "      <th>3</th>\n",
       "      <td>1393409100</td>\n",
       "      <td>jesseayye</td>\n",
       "      <td>[ \"#narcos\" ]</td>\n",
       "      <td>http://pbs.twimg.com/profile_images/7132829382...</td>\n",
       "      <td>120</td>\n",
       "      <td>107</td>\n",
       "      <td>en</td>\n",
       "      <td>1472804144409</td>\n",
       "      <td>771622623583186944</td>\n",
       "      <td>[ \"86868062\"</td>\n",
       "    </tr>\n",
       "    <tr>\n",
       "      <th>4</th>\n",
       "      <td>232891415</td>\n",
       "      <td>MrBrianLloyd</td>\n",
       "      <td>[ \"#gloryoutnow\" ]</td>\n",
       "      <td>http://pbs.twimg.com/profile_images/1334406683...</td>\n",
       "      <td>492</td>\n",
       "      <td>325</td>\n",
       "      <td>en</td>\n",
       "      <td>1472269186776</td>\n",
       "      <td>769308131696467969</td>\n",
       "      <td>[ \"361335082\"</td>\n",
       "    </tr>\n",
       "    <tr>\n",
       "      <th>5</th>\n",
       "      <td>710130422907207680</td>\n",
       "      <td>sarahdorat_16</td>\n",
       "      <td>[ \"#nationaldogday\" ]</td>\n",
       "      <td>http://pbs.twimg.com/profile_images/7671805202...</td>\n",
       "      <td>128</td>\n",
       "      <td>218</td>\n",
       "      <td>en</td>\n",
       "      <td>1472271397356</td>\n",
       "      <td>769309769144283137</td>\n",
       "      <td>[ \"1571896093\"</td>\n",
       "    </tr>\n",
       "  </tbody>\n",
       "</table>\n",
       "</div>"
      ],
      "text/plain": [
       "                   id       screenName                   tags  \\\n",
       "1          1969527638  LlngoMakeEmCum_  [ \"#nationaldogday\" ]   \n",
       "2            51878493     _notmichelle  [ \"#nationaldogday\" ]   \n",
       "3          1393409100        jesseayye          [ \"#narcos\" ]   \n",
       "4           232891415     MrBrianLloyd     [ \"#gloryoutnow\" ]   \n",
       "5  710130422907207680    sarahdorat_16  [ \"#nationaldogday\" ]   \n",
       "\n",
       "                                              avatar followersCount  \\\n",
       "1  http://pbs.twimg.com/profile_images/5342862178...            319   \n",
       "2  http://pbs.twimg.com/profile_images/7619776021...            275   \n",
       "3  http://pbs.twimg.com/profile_images/7132829382...            120   \n",
       "4  http://pbs.twimg.com/profile_images/1334406683...            492   \n",
       "5  http://pbs.twimg.com/profile_images/7671805202...            128   \n",
       "\n",
       "  friendsCount lang       lastSeen             tweetId         friends  \n",
       "1          112   en  1472271687519  769310701580083200  [ \"1969574754\"  \n",
       "2          115   en  1472270622663  769309490038439936    [ \"60789485\"  \n",
       "3          107   en  1472804144409  771622623583186944    [ \"86868062\"  \n",
       "4          325   en  1472269186776  769308131696467969   [ \"361335082\"  \n",
       "5          218   en  1472271397356  769309769144283137  [ \"1571896093\"  "
      ]
     },
     "execution_count": 5,
     "metadata": {},
     "output_type": "execute_result"
    }
   ],
   "source": [
    "data.head()"
   ]
  },
  {
   "cell_type": "code",
   "execution_count": 6,
   "id": "32cd780f",
   "metadata": {},
   "outputs": [
    {
     "name": "stdout",
     "output_type": "stream",
     "text": [
      "<class 'pandas.core.frame.DataFrame'>\n",
      "RangeIndex: 40000 entries, 1 to 40000\n",
      "Data columns (total 10 columns):\n",
      " #   Column          Non-Null Count  Dtype \n",
      "---  ------          --------------  ----- \n",
      " 0   id              40000 non-null  object\n",
      " 1   screenName      40000 non-null  object\n",
      " 2   tags            40000 non-null  object\n",
      " 3   avatar          40000 non-null  object\n",
      " 4   followersCount  40000 non-null  object\n",
      " 5   friendsCount    40000 non-null  object\n",
      " 6   lang            40000 non-null  object\n",
      " 7   lastSeen        40000 non-null  object\n",
      " 8   tweetId         40000 non-null  object\n",
      " 9   friends         40000 non-null  object\n",
      "dtypes: object(10)\n",
      "memory usage: 3.1+ MB\n"
     ]
    }
   ],
   "source": [
    "data.info()"
   ]
  },
  {
   "cell_type": "code",
   "execution_count": null,
   "id": "e6d1f402",
   "metadata": {},
   "outputs": [],
   "source": []
  }
 ],
 "metadata": {
  "kernelspec": {
   "display_name": "Python 3 (ipykernel)",
   "language": "python",
   "name": "python3"
  },
  "language_info": {
   "codemirror_mode": {
    "name": "ipython",
    "version": 3
   },
   "file_extension": ".py",
   "mimetype": "text/x-python",
   "name": "python",
   "nbconvert_exporter": "python",
   "pygments_lexer": "ipython3",
   "version": "3.9.7"
  }
 },
 "nbformat": 4,
 "nbformat_minor": 5
}
